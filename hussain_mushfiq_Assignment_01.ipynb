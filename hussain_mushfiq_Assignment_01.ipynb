{
  "cells": [
    {
      "cell_type": "markdown",
      "metadata": {
        "id": "view-in-github",
        "colab_type": "text"
      },
      "source": [
        "<a href=\"https://colab.research.google.com/github/mushfiq-hussain/info5731_assignment1/blob/main/hussain_mushfiq_Assignment_01.ipynb\" target=\"_parent\"><img src=\"https://colab.research.google.com/assets/colab-badge.svg\" alt=\"Open In Colab\"/></a>"
      ]
    },
    {
      "cell_type": "markdown",
      "metadata": {
        "id": "Ryk8D1Q4Wsrp"
      },
      "source": [
        "# **INFO5731 Assignment One**"
      ]
    },
    {
      "cell_type": "markdown",
      "metadata": {
        "id": "qcP6re2g5A5r"
      },
      "source": [
        "This assignment includes range of programming tasks and data analysis exercises, aiming to enhance your Python skills and proficiency in string manipulation, numerical computations, and data science. Follow the instructions carefully and design well-structured Python programs to address each question.\n",
        "\n",
        "Late Submission will have a penalty of 10% reduction for each day after the deadline."
      ]
    },
    {
      "cell_type": "markdown",
      "metadata": {
        "id": "JkzR8cFAyGik"
      },
      "source": [
        "# Question 1 (10 points).\n",
        "\n",
        "The formula that describes the volume V of a hemisphere with radius r is the following:\n",
        "\n",
        "$ V=\\frac{2}{3}\\ast\\ \\pi\\ast\\ r^3 $\n",
        "\n",
        "Write a program to calculate the value of V when r is in the range of even numbers from 1-20. Output the result in the following format:\n",
        "\n",
        "\tr\tV\n",
        "\t2\t…\n",
        "\t4\t…\n",
        "\t6\t…\n",
        "\t.\n",
        "\t.\n",
        "\t.\n",
        "\t20\t…\n"
      ]
    },
    {
      "cell_type": "code",
      "execution_count": null,
      "metadata": {
        "colab": {
          "base_uri": "https://localhost:8080/"
        },
        "id": "jDyTKYs-yGit",
        "outputId": "cf45a2c0-1cdd-402e-feea-0b9c08e48a55"
      },
      "outputs": [
        {
          "name": "stdout",
          "output_type": "stream",
          "text": [
            "r    V\n",
            "2    16.755160819145562\n",
            "4    134.0412865531645\n",
            "6    452.38934211693015\n",
            "8    1072.330292425316\n",
            "10    2094.3951023931954\n",
            "12    3619.114736935441\n",
            "14    5747.0201609669275\n",
            "16    8578.642339402528\n",
            "18    12214.512237157114\n",
            "20    16755.160819145563\n"
          ]
        }
      ],
      "source": [
        "import math\n",
        "\n",
        "def calculate_hemisphere_volume(radius):\n",
        "    volume = (2/3) * math.pi * radius**3\n",
        "    return volume\n",
        "print(\"r    V\")\n",
        "\n",
        "for r in range(2, 21, 2):\n",
        "    volume = calculate_hemisphere_volume(r)\n",
        "    print(f\"{r}    {volume}\")\n",
        "\n"
      ]
    },
    {
      "cell_type": "markdown",
      "metadata": {
        "id": "90_NR8c5XGWc"
      },
      "source": [
        "# Question 2 (20 points)\n",
        "\n",
        "(a) Write a Python program to generate a sequence of 12 random numbers falling within the range of 50 to 150.\n",
        "\n",
        "(b) Arrange the generated numbers in ascending order. Display the sorted list.\n",
        "\n",
        "(c) Extend the program to arrange the numbers in descending order as well. Present the sorted list accordingly.\n",
        "\n",
        "(d) Compute and output the average of the entire group of generated numbers.\n",
        "\n",
        "(e) Enhance the program to calculate and display the average of the first 6 numbers from both the ascending and descending sorted lists."
      ]
    },
    {
      "cell_type": "code",
      "execution_count": null,
      "metadata": {
        "colab": {
          "base_uri": "https://localhost:8080/"
        },
        "id": "5QX6bJjGWXY9",
        "outputId": "2841f7f8-986e-47c9-c85c-a261c7c0951d"
      },
      "outputs": [
        {
          "name": "stdout",
          "output_type": "stream",
          "text": [
            "Sorted Random Sequence (Ascending): [54, 55, 67, 78, 83, 84, 99, 109, 113, 122, 131, 139]\n",
            "Sorted Random Sequence (Descending): [139, 131, 122, 113, 109, 99, 84, 83, 78, 67, 55, 54]\n",
            "Average of the entire group: 94.5\n",
            "Average of the first 6 numbers (Ascending): 70.16666666666667\n",
            "Average of the first 6 numbers (Descending): 118.83333333333333\n"
          ]
        }
      ],
      "source": [
        "import random\n",
        "\n",
        "def generate_random_sequence(length, minimum, maximum):\n",
        "    return [random.randint(minimum, maximum) for _ in range(length)]\n",
        "\n",
        "def calculate_average(numbers):\n",
        "    return sum(numbers) / len(numbers)\n",
        "\n",
        "# Set the parameters\n",
        "sequence_length = 12\n",
        "minimum_value = 50\n",
        "maximum_value = 150\n",
        "\n",
        "# (a) Generate the random sequence\n",
        "random_sequence = generate_random_sequence(sequence_length, minimum_value, maximum_value)\n",
        "\n",
        "# (b) Sort the sequence in ascending order\n",
        "ascending_sorted_sequence = sorted(random_sequence)\n",
        "print(\"Sorted Random Sequence (Ascending):\", ascending_sorted_sequence)\n",
        "\n",
        "# (c) Sort the sequence in descending order\n",
        "descending_sorted_sequence = sorted(random_sequence, reverse=True)\n",
        "print(\"Sorted Random Sequence (Descending):\", descending_sorted_sequence)\n",
        "\n",
        "# (d) Compute and output the average of the entire group of generated numbers\n",
        "average_whole_group = calculate_average(random_sequence)\n",
        "print(\"Average of the entire group:\", average_whole_group)\n",
        "\n",
        "# (e) Compute and display the average of the first 6 numbers from both ascending and descending sorted lists\n",
        "average_first_six_ascending = calculate_average(ascending_sorted_sequence[:6])\n",
        "average_first_six_descending = calculate_average(descending_sorted_sequence[:6])\n",
        "\n",
        "print(\"Average of the first 6 numbers (Ascending):\", average_first_six_ascending)\n",
        "print(\"Average of the first 6 numbers (Descending):\", average_first_six_descending)"
      ]
    },
    {
      "cell_type": "markdown",
      "metadata": {
        "id": "1F_PZdH9Sh49"
      },
      "source": [
        "# Question 3 (20 points).\n",
        "\n",
        "Create a Python program that encompasses various string manipulation task:\n",
        "\n",
        "(a) Prompt the user to input two sentences.\n",
        "\n",
        "(b) Transform each sentence into a list, where each element corresponds to a word in the sentence. For example, if the sentences are \"Hello, how are you doing today?\" and \"This is an example sentence for the program!\"\n",
        "\n",
        "The program should output:\n",
        "['Hello', ',', 'how', 'are', 'you', 'doing', 'today', '?', 'This', 'is', 'an', 'example', 'sentence', 'for', 'the', 'program', '!']\n",
        "\n",
        "(c) Compare the two sentences. Print out a list of words that occur in both sentences.\n",
        "\n",
        "(d) Remove any punctuation from the sentence and print the sanitized sentences. It should remove at least the following characters, but it can remove more: period(“.”), comma (“,”), semicolon (“;”), and colon (“:”).\n",
        "\n",
        "(e) Count the number of vowels in each of the sentences. Print out each vowel and the occurrences  in the each of the two sentences separately, such as:\n",
        "\n",
        "Sentence1: a:2, e:2, i:0, etc.\n",
        "Sentence2: a:1, e:2, i:2, etc.\n",
        "\n",
        "Design a well-structured Python program to execute these tasks efficiently."
      ]
    },
    {
      "cell_type": "code",
      "execution_count": null,
      "metadata": {
        "colab": {
          "base_uri": "https://localhost:8080/"
        },
        "id": "Y0oOSlsOS0cq",
        "outputId": "bdb7c692-2f04-4049-f20f-6474fc37144f"
      },
      "outputs": [
        {
          "name": "stdout",
          "output_type": "stream",
          "text": [
            "Enter the first sentence: how are you?\n",
            "Enter the second sentence: i am fine\n",
            "Transformed Word List 1: ['how', 'are', 'you']\n",
            "Transformed Word List 2: ['i', 'am', 'fine']\n",
            "Common Words: []\n",
            "Sanitized Sentence 1: how are you\n",
            "Sanitized Sentence 2: i am fine\n",
            "Vowel Count Sentence 1: {'a': 1, 'e': 1, 'i': 0, 'o': 2, 'u': 1, 'A': 0, 'E': 0, 'I': 0, 'O': 0, 'U': 0}\n",
            "Vowel Count Sentence 2: {'a': 1, 'e': 1, 'i': 2, 'o': 0, 'u': 0, 'A': 0, 'E': 0, 'I': 0, 'O': 0, 'U': 0}\n"
          ]
        }
      ],
      "source": [
        "import string\n",
        "\n",
        "def get_user_input():\n",
        "    sentence1 = input(\"Enter the first sentence: \")\n",
        "    sentence2 = input(\"Enter the second sentence: \")\n",
        "    return sentence1, sentence2\n",
        "\n",
        "def transform_to_word_list(sentence):\n",
        "    words = sentence.split()\n",
        "    # Remove punctuation from each word\n",
        "    words = [word.strip(string.punctuation) for word in words]\n",
        "    return words\n",
        "\n",
        "def find_common_words(list1, list2):\n",
        "    return list(set(list1) & set(list2))\n",
        "\n",
        "def remove_punctuation(sentence):\n",
        "    return sentence.translate(str.maketrans(\"\", \"\", string.punctuation))\n",
        "\n",
        "def count_vowels(sentence):\n",
        "    vowels = \"aeiouAEIOU\"\n",
        "    vowel_count = {vowel: sentence.lower().count(vowel) for vowel in vowels}\n",
        "    return vowel_count\n",
        "\n",
        "# (a) Prompt the user to input two sentences.\n",
        "sentence1, sentence2 = get_user_input()\n",
        "\n",
        "# (b) Transform each sentence into a list of words.\n",
        "word_list1 = transform_to_word_list(sentence1)\n",
        "word_list2 = transform_to_word_list(sentence2)\n",
        "\n",
        "# Print the transformed word lists\n",
        "print(\"Transformed Word List 1:\", word_list1)\n",
        "print(\"Transformed Word List 2:\", word_list2)\n",
        "\n",
        "# (c) Compare the two sentences. Print out a list of words that occur in both sentences.\n",
        "common_words = find_common_words(word_list1, word_list2)\n",
        "print(\"Common Words:\", common_words)\n",
        "\n",
        "# (d) Remove any punctuation from the sentences.\n",
        "sanitized_sentence1 = remove_punctuation(sentence1)\n",
        "sanitized_sentence2 = remove_punctuation(sentence2)\n",
        "print(\"Sanitized Sentence 1:\", sanitized_sentence1)\n",
        "print(\"Sanitized Sentence 2:\", sanitized_sentence2)\n",
        "\n",
        "# (e) Count the number of vowels in each sentence.\n",
        "vowel_count_sentence1 = count_vowels(sentence1)\n",
        "vowel_count_sentence2 = count_vowels(sentence2)\n",
        "print(\"Vowel Count Sentence 1:\", vowel_count_sentence1)\n",
        "print(\"Vowel Count Sentence 2:\", vowel_count_sentence2)\n"
      ]
    },
    {
      "cell_type": "markdown",
      "metadata": {
        "id": "OP4-5qxAtInv"
      },
      "source": [
        "# Question 4 (20 Points)"
      ]
    },
    {
      "cell_type": "markdown",
      "metadata": {
        "id": "uzN4_hDptK9U"
      },
      "source": [
        "Design and implement a simple command-line calculator program. The program should handle both integers and floating-point numbers.\n",
        "\n",
        "(a) Write program that takes a mathematical expression as input and evaluates it. The program should support addition, subtraction, multiplication, and division.\n",
        "\n",
        "(b) Extend the calculator to handle parentheses in mathematical expressions. Implement the necessary logic to evaluate expressions with nested parentheses.\n",
        "\n",
        "(c) Enhance your calculator to include additional mathematical operations such as exponentiation, square root, and modulus.\n",
        "\n",
        "(d) Implement error handling in the calculator program. Handle cases such as division by zero and invalid input expressions. Provide meaningful error messages.\n",
        "\n",
        "(e) Implement a command to exit the calculator."
      ]
    },
    {
      "cell_type": "code",
      "execution_count": null,
      "metadata": {
        "colab": {
          "base_uri": "https://localhost:8080/"
        },
        "id": "8nQnVxjJuYtu",
        "outputId": "29a604c1-1e62-4f5a-a887-8c97ad6ccbfd"
      },
      "outputs": [
        {
          "metadata": {
            "tags": null
          },
          "name": "stdout",
          "output_type": "stream",
          "text": [
            "Simple Command-Line Calculator\n",
            "Enter 'exit' to quit the calculator.\n",
            "Result: 32\n",
            "Result: 8.0\n"
          ]
        }
      ],
      "source": [
        "import math\n",
        "\n",
        "def evaluate_expression(expression):\n",
        "    try:\n",
        "        # (b) Handle parentheses in mathematical expressions.\n",
        "        while \"(\" in expression:\n",
        "            start = expression.rfind(\"(\")\n",
        "            end = expression.find(\")\", start)\n",
        "            if start == -1 or end == -1:\n",
        "                raise ValueError(\"Mismatched parentheses\")\n",
        "            sub_expression = expression[start + 1:end]\n",
        "            result = evaluate_expression(sub_expression)\n",
        "            expression = expression[:start] + str(result) + expression[end + 1:]\n",
        "\n",
        "        # (c) Enhance the calculator to include additional mathematical operations.\n",
        "        expression = expression.replace('^', '**')  # Exponentiation\n",
        "        expression = expression.replace('sqrt', 'math.sqrt')  # Square root\n",
        "        expression = expression.replace('%', '/100.0')  # Modulus\n",
        "\n",
        "        result = eval(expression)\n",
        "        return result\n",
        "\n",
        "    except ZeroDivisionError:\n",
        "        return \"Error: Division by zero is not allowed.\"\n",
        "    except ValueError as ve:\n",
        "        return f\"Error: {str(ve)}\"\n",
        "    except Exception as e:\n",
        "        return f\"Error: {str(e)}\"\n",
        "\n",
        "def main():\n",
        "    print(\"Simple Command-Line Calculator\")\n",
        "    print(\"Enter 'exit' to quit the calculator.\")\n",
        "\n",
        "    while True:\n",
        "        expression = input(\"Enter a mathematical expression: \")\n",
        "\n",
        "        # (e) Implement a command to exit the calculator.\n",
        "        if expression.lower() == 'exit':\n",
        "            print(\"Exiting the calculator. Goodbye!\")\n",
        "            break\n",
        "\n",
        "        # (a) Evaluate the mathematical expression.\n",
        "        result = evaluate_expression(expression)\n",
        "        print(\"Result:\", result)\n",
        "\n",
        "if __name__ == \"__main__\":\n",
        "    main()"
      ]
    },
    {
      "cell_type": "markdown",
      "metadata": {
        "id": "z3tBE7E-Xn5X"
      },
      "source": [
        "# Question 5 (30 points).\n",
        "\n",
        "In the field of Data Science, data is often formatted as a comma-delimited (CSV) file, where each line in a file corresponds to a field's value. Refer to Chapter 9 (p. 106) for more information on comma-delimited files.\n",
        "\n",
        "To answer this question, you will need to download the file [Assignment1_denton_housing.csv](https://raw.githubusercontent.com/unt-iialab/info5731-spring2022/main/assignments/Assignment1_denton_housing.csv) included with this assignment. The file contains statistics about housing in the city of Denton from 2008 to 2014. Write a program to implement the following questions.\n",
        "\n",
        "(a) (5 pts) Calculate the difference in the number of Occupied Housing Units from year to year and print it. The difference must be calculated for the consecutive years such as 2008-2009, 2009-2010 etc. Finally, print the values in the ascending order.\n",
        "\n",
        "(b) (5 pts) For all the years, calculate the percentage of housing units which are vacant an occupied. Print the results in the following format:\n",
        "\n",
        "Year Vacant Housing Units Occupied Housing Units\n",
        "\n",
        "    2008  30%   70%                          \n",
        "\t2009 ----- -----\n",
        "\t2010 ----- -----\n",
        "    2011 ----- -----\n",
        "\t2012 ----- -----\n",
        "    2013 ----- -----\n",
        "\t2014 ----- -----\n",
        "  \n",
        "  \n",
        "\n",
        "(c) (10 pts) Calculate and print the valued and years in which the highest number of housing units were vacant and occupied. Print the results in the following format:  \n",
        "\n",
        "                              Year\tValue\n",
        "\tVacant Housing Units\t  -----   -----\n",
        "\tOccupied Housing Units\t-----   -----\n",
        "\n",
        "(d) (10 pts) Calculate the harmonic mean of the total housing units and print it out. You can find the information about harmonic mean here: https://ncalculators.com/statistics/harmonic-mean-calculator.htm"
      ]
    },
    {
      "cell_type": "code",
      "execution_count": null,
      "metadata": {
        "colab": {
          "base_uri": "https://localhost:8080/"
        },
        "id": "4F3IluvqTbaN",
        "outputId": "9743b02c-f0b0-4703-8da5-054e85f92df1"
      },
      "outputs": [
        {
          "output_type": "stream",
          "name": "stdout",
          "text": [
            "(a) Difference in Occupied Housing Units from year to year (ascending order):\n",
            "17    -795.0\n",
            "14    5091.0\n",
            "11    -303.0\n",
            "8     1404.0\n",
            "5     1565.0\n",
            "2     2622.0\n",
            "Name: value, dtype: float64\n",
            "\n",
            "(b) Percentage of Vacant and Occupied Housing Units:\n",
            "Year  Vacant Housing Units  Occupied Housing Units\n",
            "18    nan%                  nan%\n",
            "15    nan%                  nan%\n",
            "12    nan%                  nan%\n",
            "9    nan%                  nan%\n",
            "6    nan%                  nan%\n",
            "3    nan%                  nan%\n",
            "0    nan%                  nan%\n",
            "\n",
            "(c) Highest number of housing units (Vacant and Occupied):\n",
            "                 Year    Value\n",
            "Vacant Housing Units  2008    4483\n",
            "Occupied Housing Units  2014    46295\n",
            "\n",
            "(d) Harmonic mean of Total Housing Units: 44398.28543969185\n"
          ]
        }
      ],
      "source": [
        "import pandas as pd\n",
        "\n",
        "# Load the CSV file\n",
        "data = pd.read_csv('Assignment1_denton_housing.csv')\n",
        "\n",
        "# (a) Calculate the difference in the number of Occupied Housing Units from year to year and print it.\n",
        "occupied_diff = data[data['title_field'] == 'Occupied Housing Units'].sort_values('year')['value'].diff().dropna()\n",
        "print(\"(a) Difference in Occupied Housing Units from year to year (ascending order):\")\n",
        "print(occupied_diff)\n",
        "\n",
        "# (b) Calculate the percentage of vacant and occupied housing units for all the years.\n",
        "total_housing_units = data[data['title_field'] == 'Total Housing Units'].sort_values('year')['value']\n",
        "vacant_percentage = (data[data['title_field'] == 'Vacant Housing Units'].sort_values('year')['value'] / total_housing_units) * 100\n",
        "occupied_percentage = (occupied_diff / total_housing_units) * 100\n",
        "\n",
        "print(\"\\n(b) Percentage of Vacant and Occupied Housing Units:\")\n",
        "print(\"Year  Vacant Housing Units  Occupied Housing Units\")\n",
        "for year, vacant, occupied in zip(total_housing_units.index, vacant_percentage, occupied_percentage):\n",
        "    print(f\"{year}    {vacant:.2f}%                  {occupied:.2f}%\")\n",
        "\n",
        "# (c) Calculate and print the values and years in which the highest number of housing units were vacant and occupied.\n",
        "max_vacant = data[data['title_field'] == 'Vacant Housing Units'].sort_values('value', ascending=False).iloc[0]\n",
        "max_occupied = data[data['title_field'] == 'Occupied Housing Units'].sort_values('value', ascending=False).iloc[0]\n",
        "\n",
        "print(\"\\n(c) Highest number of housing units (Vacant and Occupied):\")\n",
        "print(\"                 Year    Value\")\n",
        "print(f\"Vacant Housing Units  {max_vacant['year']}    {max_vacant['value']}\")\n",
        "print(f\"Occupied Housing Units  {max_occupied['year']}    {max_occupied['value']}\")\n",
        "\n",
        "# (d) Calculate the harmonic mean of the total housing units and print it out.\n",
        "harmonic_mean = len(total_housing_units) / sum(1 / total_housing_units)\n",
        "print(\"\\n(d) Harmonic mean of Total Housing Units:\", harmonic_mean)"
      ]
    },
    {
      "cell_type": "markdown",
      "metadata": {
        "id": "q8BFCvWp32cf"
      },
      "source": [
        "# Mandatory Question\n",
        "\n",
        "Provide your thoughts on the assignment. What did you find challenging, and what aspects did you enjoy? Your opinion on the provided time to complete the assignment. Share any suggestions for improvement. Your feedback will be valuable for enhancing the learning experience."
      ]
    },
    {
      "cell_type": "code",
      "execution_count": null,
      "metadata": {
        "id": "_e557s2w4BpK"
      },
      "outputs": [],
      "source": [
        "Assignment was quite tough. Did not expected this kind of assignment this soon. It was really challenging to solve these questions but I managed. But at the same time it also helping me to improve my skills.\n",
        "they were many questons and less time. the suggestion which i would like to input is to avoid many questions with the proper time. thanks"
      ]
    }
  ],
  "metadata": {
    "colab": {
      "provenance": [],
      "include_colab_link": true
    },
    "kernelspec": {
      "display_name": "Python 3 (ipykernel)",
      "language": "python",
      "name": "python3"
    },
    "language_info": {
      "codemirror_mode": {
        "name": "ipython",
        "version": 3
      },
      "file_extension": ".py",
      "mimetype": "text/x-python",
      "name": "python",
      "nbconvert_exporter": "python",
      "pygments_lexer": "ipython3",
      "version": "3.9.12"
    }
  },
  "nbformat": 4,
  "nbformat_minor": 0
}